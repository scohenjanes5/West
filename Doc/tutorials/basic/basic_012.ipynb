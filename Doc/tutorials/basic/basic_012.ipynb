{
 "cells": [
  {
   "cell_type": "markdown",
   "metadata": {},
   "source": [
    "This tutorial can be downloaded [link](https://github.com/west-code-development/West/raw/master/Doc/tutorials/basic/basic_012.ipynb)."
   ]
  },
  {
   "cell_type": "markdown",
   "metadata": {},
   "source": [
    "# Intro Tutorial 12: Excited State Geometry Optimization Using Time-Dependent Density Functional Theory (TDDFT)"
   ]
  },
  {
   "cell_type": "markdown",
   "metadata": {},
   "source": [
    "This tutorial outlines how to perform excited state geometry optimization using the excitation energy and analytical nuclear forces obtained from time-dependent density functional theory (TDDFT).\n",
    "\n",
    "We will use the formaldehyde molecule as an example to determine the optimized atomic geometry of the $^1A''$ excited state using TDDFT with the Perdew–Burke–Ernzerhof (PBE) functional and calculate the adiabatic excitation energy.\n",
    "\n",
    "In the first part of the tutorial, we review the relaxation of atomic geometry in the electronic **ground state**. We will conduct DFT calculations using the `pw.x` executable from the [Quantum ESPRESSO](https://www.quantum-espresso.org/) package. In the second part, we relax the atomic geometry of the electronic **excited state** by combining DFT calculations - using the `pw.x` executable - and TDDFT calculations using the `wbse.x` executable from the [WEST](https://west-code.org/) code.\n",
    "\n",
    "More details about the implementation of TDDFT in WEST, for spin-conserving or spin-flip excitations with analytical forces and hybrid functionals, may be found in [Y. Jin, V. Yu, M. Govoni, A. Xu, and G. Galli, J. Chem. Theory Comput. 19, 8689 (2023)](https://doi.org/10.1021/acs.jctc.3c00986)."
   ]
  },
  {
   "cell_type": "markdown",
   "metadata": {},
   "source": [
    "## Ground state geometry optimization"
   ]
  },
  {
   "cell_type": "markdown",
   "metadata": {},
   "source": [
    "We first review how to perform the ground state geometry optimization calculation using DFT. Download the following files to your working directory:"
   ]
  },
  {
   "cell_type": "code",
   "execution_count": 1,
   "metadata": {},
   "outputs": [],
   "source": [
    "%%bash\n",
    "wget -N -q http://www.quantum-simulation.org/potentials/sg15_oncv/upf/C_ONCV_PBE-1.2.upf\n",
    "wget -N -q http://www.quantum-simulation.org/potentials/sg15_oncv/upf/H_ONCV_PBE-1.2.upf\n",
    "wget -N -q http://www.quantum-simulation.org/potentials/sg15_oncv/upf/O_ONCV_PBE-1.2.upf\n",
    "wget -N -q https://west-code.org/doc/training/formaldehyde/gs/pw.in -O pw.in"
   ]
  },
  {
   "cell_type": "markdown",
   "metadata": {},
   "source": [
    "We can inspect the `pw.in` file, the input for the `pw.x` code:"
   ]
  },
  {
   "cell_type": "code",
   "execution_count": 2,
   "metadata": {},
   "outputs": [
    {
     "name": "stdout",
     "output_type": "stream",
     "text": [
      "&CONTROL\n",
      "calculation = 'relax'\n",
      "pseudo_dir = './'\n",
      "/\n",
      "&SYSTEM\n",
      "ibrav = 0\n",
      "nat = 4\n",
      "ntyp = 3\n",
      "ecutwfc = 50\n",
      "nbnd = 10\n",
      "/\n",
      "&ELECTRONS\n",
      "diago_full_acc = .true.\n",
      "/\n",
      "&IONS\n",
      "ion_dynamics = 'bfgs'\n",
      "/\n",
      "ATOMIC_SPECIES\n",
      "C  12.0107  C_ONCV_PBE-1.2.upf\n",
      "H   1.0079  H_ONCV_PBE-1.2.upf\n",
      "O  16.00    O_ONCV_PBE-1.2.upf\n",
      "K_POINTS gamma\n",
      "CELL_PARAMETERS angstrom\n",
      "15 0 0\n",
      "0 15 0\n",
      "0 0 15\n",
      "ATOMIC_POSITIONS crystal\n",
      "C  0.46600000  0.500000000  0.500000000\n",
      "H  0.42652967  0.436863407  0.500000000\n",
      "H  0.42652967  0.563136597  0.500000000\n",
      "O  0.54644441  0.500000000  0.500000000\n"
     ]
    }
   ],
   "source": [
    "%%bash\n",
    "cat pw.in"
   ]
  },
  {
   "cell_type": "markdown",
   "metadata": {},
   "source": [
    "We run `pw.x` on 2 cores."
   ]
  },
  {
   "cell_type": "code",
   "execution_count": null,
   "metadata": {},
   "outputs": [],
   "source": [
    "%%bash\n",
    "mpirun -n 2 pw.x -i pw.in > pw.out"
   ]
  },
  {
   "cell_type": "markdown",
   "metadata": {},
   "source": [
    "If the reader does NOT have the computational resources to run the calculation, the output file needed for the next step can be directly downloaded as:"
   ]
  },
  {
   "cell_type": "code",
   "execution_count": 3,
   "metadata": {},
   "outputs": [],
   "source": [
    "%%bash\n",
    "mkdir -p pwscf.save\n",
    "wget -N -q https://west-code.org/doc/training/formaldehyde/gs/pwscf.xml -O pwscf.save/data-file-schema.xml"
   ]
  },
  {
   "cell_type": "markdown",
   "metadata": {},
   "source": [
    "We extract the total energy at the optimized geometry from the file `pwscf.save/data-file-schema.xml`."
   ]
  },
  {
   "cell_type": "code",
   "execution_count": 4,
   "metadata": {},
   "outputs": [
    {
     "name": "stdout",
     "output_type": "stream",
     "text": [
      "Ground state total energy: -619.532480 eV\n"
     ]
    }
   ],
   "source": [
    "from xml.etree import ElementTree as ET\n",
    "\n",
    "Hartree2eV = 27.2114\n",
    "\n",
    "fname = 'pwscf.save/data-file-schema.xml'\n",
    "\n",
    "xmlData = ET.parse(fname)\n",
    "root = xmlData.getroot()\n",
    "gs_etot = float(root.find('output').find('total_energy').find('etot').text) * Hartree2eV\n",
    "\n",
    "print(f'Ground state total energy: {gs_etot:.6f} eV')"
   ]
  },
  {
   "cell_type": "markdown",
   "metadata": {},
   "source": [
    "We can also calculate the bond lengths and angles of the formaldehyde molecule based on the optimized geometry, and compare the results with [published values](https://doi.org/10.1063/1.1540109). First, we extract the atomic coordinates."
   ]
  },
  {
   "cell_type": "code",
   "execution_count": 5,
   "metadata": {},
   "outputs": [],
   "source": [
    "import numpy as np\n",
    "\n",
    "Bohr2Angstrom = 0.529177\n",
    "\n",
    "# extract atomic coordinates\n",
    "atomic_structure = root.find('output/atomic_structure')\n",
    "alat = float(atomic_structure.attrib['alat'])\n",
    "atoms = atomic_structure.findall('atomic_positions/atom')\n",
    "gs_geo = [np.array(atom.text.split(), dtype=np.float64) * Bohr2Angstrom for atom in atoms]"
   ]
  },
  {
   "cell_type": "markdown",
   "metadata": {},
   "source": [
    "We calculate the bond lengths."
   ]
  },
  {
   "cell_type": "code",
   "execution_count": 6,
   "metadata": {},
   "outputs": [
    {
     "name": "stdout",
     "output_type": "stream",
     "text": [
      "C-H1 bond length: 1.1169 Å\n",
      "C-H2 bond length: 1.1169 Å\n",
      "C-O  bond length: 1.2067 Å\n"
     ]
    }
   ],
   "source": [
    "gs_bl_c_h1 = np.linalg.norm(gs_geo[1] - gs_geo[0])\n",
    "gs_bl_c_h2 = np.linalg.norm(gs_geo[2] - gs_geo[0])\n",
    "gs_bl_c_o = np.linalg.norm(gs_geo[3] - gs_geo[0])\n",
    "\n",
    "print(f'C-H1 bond length: {gs_bl_c_h1:.4f} Å')\n",
    "print(f'C-H2 bond length: {gs_bl_c_h2:.4f} Å')\n",
    "print(f'C-O  bond length: {gs_bl_c_o:.4f} Å')"
   ]
  },
  {
   "cell_type": "markdown",
   "metadata": {},
   "source": [
    "The calculated bond lengths agree well with the reference values of 1.118 Å and 1.211 Å for the C-H and C-O bonds, respectively.\n",
    "\n",
    "We calculate the angle formed between the two C-H bonds."
   ]
  },
  {
   "cell_type": "code",
   "execution_count": 7,
   "metadata": {},
   "outputs": [
    {
     "name": "stdout",
     "output_type": "stream",
     "text": [
      "H1-C-H2 bond angle: 115.9762 degrees\n"
     ]
    }
   ],
   "source": [
    "ang = np.dot(gs_geo[1] - gs_geo[0], gs_geo[2] - gs_geo[0])\n",
    "ang /= np.linalg.norm(gs_geo[1] - gs_geo[0])\n",
    "ang /= np.linalg.norm(gs_geo[2] - gs_geo[0])\n",
    "gs_ang_h1_c_h2 = np.arccos(ang) * 180 / np.pi\n",
    "\n",
    "print(f'H1-C-H2 bond angle: {gs_ang_h1_c_h2:.4f} degrees')"
   ]
  },
  {
   "cell_type": "markdown",
   "metadata": {},
   "source": [
    "This is consistent with the reference value of 116.1 degrees.\n",
    "\n",
    "We calculate the out-of-plane angle $\\Phi$."
   ]
  },
  {
   "cell_type": "code",
   "execution_count": 8,
   "metadata": {},
   "outputs": [
    {
     "name": "stdout",
     "output_type": "stream",
     "text": [
      "Out-of-plane angle: 0.0000 degrees\n"
     ]
    }
   ],
   "source": [
    "n_hch = np.cross(gs_geo[1] - gs_geo[0], gs_geo[2] - gs_geo[0])\n",
    "ang = np.dot(n_hch, gs_geo[3] - gs_geo[0])\n",
    "ang /= np.linalg.norm(n_hch)\n",
    "ang /= np.linalg.norm(gs_geo[3] - gs_geo[0])\n",
    "gs_ang_oop = np.arccos(ang) * 180 / np.pi - 90\n",
    "\n",
    "print(f'Out-of-plane angle: {gs_ang_oop:.4f} degrees')"
   ]
  },
  {
   "cell_type": "markdown",
   "metadata": {},
   "source": [
    "This is also consistent with the reference value of 0.0 degrees."
   ]
  },
  {
   "cell_type": "markdown",
   "metadata": {},
   "source": [
    "## Excited state geometry optimization"
   ]
  },
  {
   "cell_type": "markdown",
   "metadata": {},
   "source": [
    "Now we explain how to perform an excited state geometry optimization calculation. Download the following files to your working directory:"
   ]
  },
  {
   "cell_type": "code",
   "execution_count": 9,
   "metadata": {},
   "outputs": [],
   "source": [
    "%%bash\n",
    "wget -N -q http://www.quantum-simulation.org/potentials/sg15_oncv/upf/C_ONCV_PBE-1.2.upf\n",
    "wget -N -q http://www.quantum-simulation.org/potentials/sg15_oncv/upf/H_ONCV_PBE-1.2.upf\n",
    "wget -N -q http://www.quantum-simulation.org/potentials/sg15_oncv/upf/O_ONCV_PBE-1.2.upf\n",
    "wget -N -q https://west-code.org/doc/training/formaldehyde/es/pw.in -O pw.in\n",
    "wget -N -q https://west-code.org/doc/training/formaldehyde/es/wbse.in -O wbse.in"
   ]
  },
  {
   "cell_type": "markdown",
   "metadata": {},
   "source": [
    "We can inspect the `pw.in` file, which contains the initial atomic coordinates for the excited state geometry optimization:"
   ]
  },
  {
   "cell_type": "code",
   "execution_count": 10,
   "metadata": {},
   "outputs": [
    {
     "name": "stdout",
     "output_type": "stream",
     "text": [
      "&CONTROL\n",
      "calculation = 'scf'\n",
      "pseudo_dir = './'\n",
      "tpnrfor = '.true.'\n",
      "/\n",
      "&SYSTEM\n",
      "ibrav = 0\n",
      "nat = 4\n",
      "ntyp = 3\n",
      "ecutwfc = 50\n",
      "nbnd = 10\n",
      "/\n",
      "&ELECTRONS\n",
      "diago_full_acc = .true.\n",
      "startingpot = 'file'\n",
      "startingwfc = 'file'\n",
      "/\n",
      "ATOMIC_SPECIES\n",
      "C  12.0107  C_ONCV_PBE-1.2.upf\n",
      "H   1.0079  H_ONCV_PBE-1.2.upf\n",
      "O  16.00    O_ONCV_PBE-1.2.upf\n",
      "K_POINTS gamma\n",
      "CELL_PARAMETERS angstrom\n",
      "15 0 0\n",
      "0 15 0\n",
      "0 0 15\n",
      "ATOMIC_POSITIONS crystal\n",
      "C  0.46600000  0.500000000  0.500000000\n",
      "H  0.42652967  0.436863407  0.500000000\n",
      "H  0.42652967  0.563136597  0.500000000\n",
      "O  0.54644441  0.500000000  0.500000000\n"
     ]
    }
   ],
   "source": [
    "%%bash\n",
    "cat pw.in"
   ]
  },
  {
   "cell_type": "markdown",
   "metadata": {},
   "source": [
    "We made a minor adjustment to the z coordinate of the oxygen atom to establish an initial out-of-plane angle.\n",
    "\n",
    "We can examine the `wbse.in` file, the input file for the `wbse.x` executable that computes the excited state energy and forces through TDDFT:"
   ]
  },
  {
   "cell_type": "code",
   "execution_count": 11,
   "metadata": {},
   "outputs": [
    {
     "name": "stdout",
     "output_type": "stream",
     "text": [
      "input_west:\n",
      "  outdir: ./\n",
      "\n",
      "wbse_init_control:\n",
      "  solver: TDDFT\n",
      "\n",
      "wbse_control:\n",
      "  wbse_calculation: D\n",
      "  n_liouville_eigen: 1\n",
      "  trev_liouville: 0.00000001\n",
      "  trev_liouville_rel: 0.000001\n",
      "  spin_excitation: S\n",
      "  l_forces: True\n",
      "  forces_state: 1\n"
     ]
    }
   ],
   "source": [
    "%%bash\n",
    "cat wbse.in"
   ]
  },
  {
   "cell_type": "markdown",
   "metadata": {},
   "source": [
    "The keyword `l_forces: True` turns on the calculation of analytical forces. The keyword `forces_state: 1` instructs the code to compute the forces of the first excited state, $^1A''$.\n",
    "\n",
    "The workflow of carrying out an excited state geometry optimization is orchestrated by the [WESTpy Python package](https://west-code.org/doc/westpy/latest/), which automatically runs the `pw.x` code to compute the ground state total energy, then runs the `wbse.x` code to compute the excitation energy and forces of the excited state, and updates the geometry of the excited state.\n",
    "\n",
    "We create a `bfgs_iter` object by specifying the commands to run `pw.x` and `wbse.x`, and the list of pseudopotentials. Then we call the `solve` method to perform the BFGS geometry optimization of the excited state."
   ]
  },
  {
   "cell_type": "code",
   "execution_count": null,
   "metadata": {},
   "outputs": [],
   "source": [
    "from westpy import *\n",
    "\n",
    "run_pw = 'mpirun -n 2 pw.x'\n",
    "run_wbse = 'mpirun -n 2 wbse.x'\n",
    "pp = [f'{element}_ONCV_PBE-1.2.upf' for element in ['C', 'H', 'O']]\n",
    "\n",
    "bfgs = bfgs_iter(run_pw=run_pw, run_wbse=run_wbse, pp=pp)\n",
    "bfgs.solve()"
   ]
  },
  {
   "cell_type": "markdown",
   "metadata": {},
   "source": [
    "The output would look like the following:\n",
    "\n",
    "```\n",
    "BFGS Geometry Relaxation\n",
    "\n",
    "Running pw.x ...\n",
    "Running wbse.x ...\n",
    "\n",
    "number of scf cycles    =   1\n",
    "number of bfgs steps    =   0\n",
    "energy new              =     -45.2645433679 Ry\n",
    "total force             =       0.1896335500 Ry/Bohr\n",
    "new trust radius        =       0.1435687300 Bohr\n",
    "\n",
    "Running pw.x ...\n",
    "Running wbse.x ...\n",
    "\n",
    "number of scf cycles    =   2\n",
    "number of bfgs steps    =   1\n",
    "energy old              =     -45.2645433679 Ry\n",
    "energy new              =     -45.2661898561 Ry\n",
    "total force             =       0.1429407362 Ry/Bohr\n",
    "CASE: energy_new < energy_old\n",
    "new trust radius        =       0.0600494533 Bohr\n",
    "\n",
    "...\n",
    "\n",
    "Running pw.x ...\n",
    "Running wbse.x ...\n",
    "\n",
    "number of scf cycles    =  15\n",
    "number of bfgs steps    =  14\n",
    "energy old              =     -45.2741434562 Ry\n",
    "energy new              =     -45.2741629611 Ry\n",
    "total force             =       0.0009790657 Ry/Bohr\n",
    "\n",
    "Final geometry saved to final_geo\n",
    "\n",
    "bfgs converged in  15 scf cycles and  14 bfgs steps\n",
    "(criteria: energy < 1.00e-04 Ry, force < 1.00e-03 Ry/Bohr)\n",
    "\n",
    "End of BFGS Geometry Optimization\n",
    "\n",
    "Final energy =     -45.2741629611 Ry\n",
    "```"
   ]
  },
  {
   "cell_type": "markdown",
   "metadata": {},
   "source": [
    "If the reader does NOT have the computational resources to run the calculation, the output files needed for the next step can be directly downloaded as:"
   ]
  },
  {
   "cell_type": "code",
   "execution_count": 12,
   "metadata": {},
   "outputs": [],
   "source": [
    "%%bash\n",
    "mkdir -p final_geo\n",
    "mkdir -p final_geo/pwscf.save\n",
    "mkdir -p final_geo/west.wbse.save\n",
    "wget -N -q https://west-code.org/doc/training/formaldehyde/es/pwscf.xml -O final_geo/pwscf.save/data-file-schema.xml\n",
    "wget -N -q https://west-code.org/doc/training/formaldehyde/es/wbse.json -O final_geo/west.wbse.save/wbse.json"
   ]
  },
  {
   "cell_type": "markdown",
   "metadata": {},
   "source": [
    "The total energy of the optimized excited state can be decomposed into two components. The first component is the ground state total energy at this optimized excited state geometry, which can be extracted from the `final_geo/pwscf.save/data-file-schema.xml` file:"
   ]
  },
  {
   "cell_type": "code",
   "execution_count": 13,
   "metadata": {},
   "outputs": [],
   "source": [
    "fname = 'final_geo/pwscf.save/data-file-schema.xml'\n",
    "\n",
    "xmlData = ET.parse(fname)\n",
    "root = xmlData.getroot()\n",
    "es_etot1 = float(root.find('output').find('total_energy').find('etot').text) * Hartree2eV"
   ]
  },
  {
   "cell_type": "markdown",
   "metadata": {},
   "source": [
    "The second component is the excitation energy at the optimized excited state geometry, which can be retrieved from the `final_geo/west.wbse.save/wbse.json` file:"
   ]
  },
  {
   "cell_type": "code",
   "execution_count": 14,
   "metadata": {},
   "outputs": [],
   "source": [
    "import json\n",
    "\n",
    "fname = 'final_geo/west.wbse.save/wbse.json'\n",
    "\n",
    "with open(fname, 'r') as f:\n",
    "    j = json.load(f)\n",
    "\n",
    "which_es = int(j['input']['wbse_control']['forces_state'])\n",
    "es_etot2 = float(j['exec']['davitr'][-1]['ev'][which_es - 1]) * Hartree2eV / 2.0"
   ]
  },
  {
   "cell_type": "markdown",
   "metadata": {},
   "source": [
    "The total energy of the excited state is therefore:"
   ]
  },
  {
   "cell_type": "code",
   "execution_count": 15,
   "metadata": {},
   "outputs": [
    {
     "name": "stdout",
     "output_type": "stream",
     "text": [
      "Excited state total energy: -615.986679 eV\n"
     ]
    }
   ],
   "source": [
    "es_etot = es_etot1 + es_etot2\n",
    "print(f'Excited state total energy: {es_etot:.6f} eV')"
   ]
  },
  {
   "cell_type": "markdown",
   "metadata": {},
   "source": [
    "The adiabatic excitation energy is the difference between the total energies of the excited and ground states at their respective optimized geometries:"
   ]
  },
  {
   "cell_type": "code",
   "execution_count": 16,
   "metadata": {},
   "outputs": [
    {
     "name": "stdout",
     "output_type": "stream",
     "text": [
      "Adiabatic excitation energy: 3.545801 eV\n"
     ]
    }
   ],
   "source": [
    "aee = es_etot - gs_etot\n",
    "print(f'Adiabatic excitation energy: {aee:.6f} eV')"
   ]
  },
  {
   "cell_type": "markdown",
   "metadata": {},
   "source": [
    "This value is consistent with the reference value of 3.53 eV.\n",
    "\n",
    "We can also compute the bond lengths and angles at the optimized excited state geometry. First, we extract the atomic coordinates."
   ]
  },
  {
   "cell_type": "code",
   "execution_count": 17,
   "metadata": {},
   "outputs": [],
   "source": [
    "fname = 'final_geo/pwscf.save/data-file-schema.xml'\n",
    "\n",
    "xmlData = ET.parse(fname)\n",
    "root = xmlData.getroot()\n",
    "atomic_structure = root.find('output/atomic_structure')\n",
    "alat = float(atomic_structure.attrib['alat'])\n",
    "atoms = atomic_structure.findall('atomic_positions/atom')\n",
    "es_geo = [np.array(atom.text.split(), dtype=np.float64) * Bohr2Angstrom for atom in atoms]"
   ]
  },
  {
   "cell_type": "markdown",
   "metadata": {},
   "source": [
    "We calculate the bond lengths."
   ]
  },
  {
   "cell_type": "code",
   "execution_count": 18,
   "metadata": {},
   "outputs": [
    {
     "name": "stdout",
     "output_type": "stream",
     "text": [
      "C-H1 bond length: 1.1020 Å\n",
      "C-H2 bond length: 1.1015 Å\n",
      "C-O  bond length: 1.3111 Å\n"
     ]
    }
   ],
   "source": [
    "es_bl_c_h1 = np.linalg.norm(es_geo[1] - es_geo[0])\n",
    "es_bl_c_h2 = np.linalg.norm(es_geo[2] - es_geo[0])\n",
    "es_bl_c_o = np.linalg.norm(es_geo[3] - es_geo[0])\n",
    "\n",
    "print(f'C-H1 bond length: {es_bl_c_h1:.4f} Å')\n",
    "print(f'C-H2 bond length: {es_bl_c_h2:.4f} Å')\n",
    "print(f'C-O  bond length: {es_bl_c_o:.4f} Å')"
   ]
  },
  {
   "cell_type": "markdown",
   "metadata": {},
   "source": [
    "The calculated bond lengths agree well with the reference values of 1.103 Å and 1.308 Å for the C-H and C-O bonds, respectively.\n",
    "\n",
    "We calculate the angle formed between the two C-H bonds."
   ]
  },
  {
   "cell_type": "code",
   "execution_count": 19,
   "metadata": {},
   "outputs": [
    {
     "name": "stdout",
     "output_type": "stream",
     "text": [
      "H1-C-H2 bond angle: 117.1526 degrees\n"
     ]
    }
   ],
   "source": [
    "ang = np.dot(es_geo[1] - es_geo[0], es_geo[2] - es_geo[0])\n",
    "ang /= np.linalg.norm(es_geo[1] - es_geo[0])\n",
    "ang /= np.linalg.norm(es_geo[2] - es_geo[0])\n",
    "es_ang_h1_c_h2 = np.arccos(ang) * 180 / np.pi\n",
    "\n",
    "print(f'H1-C-H2 bond angle: {es_ang_h1_c_h2:.4f} degrees')"
   ]
  },
  {
   "cell_type": "markdown",
   "metadata": {},
   "source": [
    "This is consistent with the reference value of 116.8 degrees.\n",
    "\n",
    "We calculate the out-of-plane angle $\\Phi$."
   ]
  },
  {
   "cell_type": "code",
   "execution_count": 20,
   "metadata": {},
   "outputs": [
    {
     "name": "stdout",
     "output_type": "stream",
     "text": [
      "Out-of-plane angle: 31.1072 degrees\n"
     ]
    }
   ],
   "source": [
    "n_hch = np.cross(es_geo[1] - es_geo[0], es_geo[2] - es_geo[0])\n",
    "ang = np.dot(n_hch, es_geo[3] - es_geo[0])\n",
    "ang /= np.linalg.norm(n_hch)\n",
    "ang /= np.linalg.norm(es_geo[3] - es_geo[0])\n",
    "es_ang_oop = np.arccos(ang) * 180 / np.pi - 90\n",
    "\n",
    "print(f'Out-of-plane angle: {es_ang_oop:.4f} degrees')"
   ]
  },
  {
   "cell_type": "markdown",
   "metadata": {},
   "source": [
    "This is also consistent with the reference value of 30.0 degrees.\n",
    "\n",
    "Finally, we compile the results into a table for a comprehensive view."
   ]
  },
  {
   "cell_type": "code",
   "execution_count": 21,
   "metadata": {},
   "outputs": [
    {
     "data": {
      "text/html": [
       "<div>\n",
       "<style scoped>\n",
       "    .dataframe tbody tr th:only-of-type {\n",
       "        vertical-align: middle;\n",
       "    }\n",
       "\n",
       "    .dataframe tbody tr th {\n",
       "        vertical-align: top;\n",
       "    }\n",
       "\n",
       "    .dataframe thead th {\n",
       "        text-align: right;\n",
       "    }\n",
       "</style>\n",
       "<table border=\"1\" class=\"dataframe\">\n",
       "  <thead>\n",
       "    <tr style=\"text-align: right;\">\n",
       "      <th></th>\n",
       "      <th>State</th>\n",
       "      <th>C-O bond length (Å)</th>\n",
       "      <th>C-H bond length (Å)</th>\n",
       "      <th>H-C-H angle (degree)</th>\n",
       "      <th>Out-of-plane angle (degree)</th>\n",
       "      <th>Adiabatic excitation energy (eV)</th>\n",
       "    </tr>\n",
       "  </thead>\n",
       "  <tbody>\n",
       "    <tr>\n",
       "      <th>0</th>\n",
       "      <td>$^1A_1$, this work</td>\n",
       "      <td>1.207</td>\n",
       "      <td>1.117</td>\n",
       "      <td>115.976</td>\n",
       "      <td>0.000</td>\n",
       "      <td>N/A</td>\n",
       "    </tr>\n",
       "    <tr>\n",
       "      <th>1</th>\n",
       "      <td>$^1A_1$, ref.</td>\n",
       "      <td>1.211</td>\n",
       "      <td>1.118</td>\n",
       "      <td>116.100</td>\n",
       "      <td>0.000</td>\n",
       "      <td>N/A</td>\n",
       "    </tr>\n",
       "    <tr>\n",
       "      <th>2</th>\n",
       "      <td>$^1A^{\\prime\\prime}$, this work</td>\n",
       "      <td>1.311</td>\n",
       "      <td>1.102</td>\n",
       "      <td>117.153</td>\n",
       "      <td>31.107</td>\n",
       "      <td>3.546</td>\n",
       "    </tr>\n",
       "    <tr>\n",
       "      <th>3</th>\n",
       "      <td>$^1A^{\\prime\\prime}$, ref.</td>\n",
       "      <td>1.308</td>\n",
       "      <td>1.103</td>\n",
       "      <td>116.800</td>\n",
       "      <td>30.000</td>\n",
       "      <td>3.530</td>\n",
       "    </tr>\n",
       "  </tbody>\n",
       "</table>\n",
       "</div>"
      ],
      "text/plain": [
       "                             State  C-O bond length (Å)  C-H bond length (Å)  \\\n",
       "0               $^1A_1$, this work                1.207                1.117   \n",
       "1                    $^1A_1$, ref.                1.211                1.118   \n",
       "2  $^1A^{\\prime\\prime}$, this work                1.311                1.102   \n",
       "3       $^1A^{\\prime\\prime}$, ref.                1.308                1.103   \n",
       "\n",
       "   H-C-H angle (degree)  Out-of-plane angle (degree)  \\\n",
       "0               115.976                        0.000   \n",
       "1               116.100                        0.000   \n",
       "2               117.153                       31.107   \n",
       "3               116.800                       30.000   \n",
       "\n",
       "  Adiabatic excitation energy (eV)  \n",
       "0                              N/A  \n",
       "1                              N/A  \n",
       "2                            3.546  \n",
       "3                            3.530  "
      ]
     },
     "execution_count": 21,
     "metadata": {},
     "output_type": "execute_result"
    }
   ],
   "source": [
    "import pandas as pd\n",
    "\n",
    "data = {\n",
    "    'State': ['$^1A_1$, this work', '$^1A_1$, ref.', '$^1A^{\\prime\\prime}$, this work', '$^1A^{\\prime\\prime}$, ref.'],\n",
    "    'C-O bond length (Å)': [gs_bl_c_o, 1.211, es_bl_c_o, 1.308],\n",
    "    'C-H bond length (Å)': [gs_bl_c_h1, 1.118, es_bl_c_h1, 1.103],\n",
    "    'H-C-H angle (degree)': [gs_ang_h1_c_h2, 116.1, es_ang_h1_c_h2, 116.8],\n",
    "    'Out-of-plane angle (degree)': [gs_ang_oop, 0.0, es_ang_oop, 30.0],\n",
    "    'Adiabatic excitation energy (eV)': ['N/A', 'N/A', aee, 3.53]\n",
    "}\n",
    "\n",
    "df = pd.DataFrame(data)\n",
    "pd.options.display.float_format = '{:.3f}'.format\n",
    "df"
   ]
  }
 ],
 "metadata": {
  "kernelspec": {
   "display_name": "Python 3 (ipykernel)",
   "language": "python",
   "name": "python3"
  },
  "language_info": {
   "codemirror_mode": {
    "name": "ipython",
    "version": 3
   },
   "file_extension": ".py",
   "mimetype": "text/x-python",
   "name": "python",
   "nbconvert_exporter": "python",
   "pygments_lexer": "ipython3",
   "version": "3.9.18"
  }
 },
 "nbformat": 4,
 "nbformat_minor": 4
}
